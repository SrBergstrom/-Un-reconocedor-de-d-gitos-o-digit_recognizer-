{
  "nbformat": 4,
  "nbformat_minor": 0,
  "metadata": {
    "colab": {
      "provenance": [],
      "mount_file_id": "1zksKALQObQt_L-pdDMk7UG47tqm9vAMm",
      "authorship_tag": "ABX9TyMppfrDe7X8CRJThYdmDgGU",
      "include_colab_link": true
    },
    "kernelspec": {
      "name": "python3",
      "display_name": "Python 3"
    },
    "language_info": {
      "name": "python"
    }
  },
  "cells": [
    {
      "cell_type": "markdown",
      "metadata": {
        "id": "view-in-github",
        "colab_type": "text"
      },
      "source": [
        "<a href=\"https://colab.research.google.com/github/SrBergstrom/Reconocedor_de_digitos/blob/main/Proyecto.ipynb\" target=\"_parent\"><img src=\"https://colab.research.google.com/assets/colab-badge.svg\" alt=\"Open In Colab\"/></a>"
      ]
    },
    {
      "cell_type": "code",
      "source": [
        "import os\n",
        "os.chdir('/content/drive/My Drive/Maestria/02/')\n"
      ],
      "metadata": {
        "id": "_ea9EI9VizMJ"
      },
      "execution_count": null,
      "outputs": []
    },
    {
      "cell_type": "code",
      "source": [
        "# ! ls"
      ],
      "metadata": {
        "id": "mNxMsgA-jAxi"
      },
      "execution_count": null,
      "outputs": []
    },
    {
      "cell_type": "code",
      "source": [
        "# # Carpeta para credenciales de Kaggle\n",
        "# !mkdir -p ~/.kaggle\n",
        "\n",
        "# # Archivo kaggle.json\n",
        "# !cp kaggle.json ~/.kaggle/\n",
        "\n",
        "# # Permisos\n",
        "# !chmod 600 ~/.kaggle/kaggle.json\n",
        "\n",
        "# # Descargar el dataset desde Kaggle\n",
        "# !kaggle competitions download -c digit-recognizer --force\n"
      ],
      "metadata": {
        "id": "7WEhF5DejEua"
      },
      "execution_count": null,
      "outputs": []
    },
    {
      "cell_type": "code",
      "source": [
        "# # Descomprimir archivo ZIP\n",
        "# !unzip digit-recognizer.zip\n"
      ],
      "metadata": {
        "id": "zzqEuYFRk2ze"
      },
      "execution_count": null,
      "outputs": []
    },
    {
      "cell_type": "code",
      "source": [
        "# # Instalación de TensorFlow (incluye Keras)\n",
        "# !pip install tensorflow\n"
      ],
      "metadata": {
        "id": "Ga525mn8lIYB"
      },
      "execution_count": null,
      "outputs": []
    },
    {
      "cell_type": "code",
      "source": [
        "import warnings\n",
        "warnings.filterwarnings('ignore')\n"
      ],
      "metadata": {
        "id": "9Jwp0acPnou3"
      },
      "execution_count": null,
      "outputs": []
    },
    {
      "cell_type": "code",
      "source": [
        "# Importamos bibliotecas necesarias\n",
        "import numpy as np\n",
        "import pandas as pd\n",
        "import matplotlib.pyplot as plt\n",
        "import seaborn as sns\n",
        "import matplotlib.image as mpimg\n",
        "from sklearn.model_selection import train_test_split\n",
        "from sklearn.metrics import confusion_matrix\n",
        "import itertools\n",
        "\n",
        "# Importamos TensorFlow y Keras\n",
        "import tensorflow as tf                           # Biblioteca principal de TensorFlow\n",
        "from tensorflow.keras.utils import to_categorical # Conversión de etiquetas a formato categórico\n",
        "from tensorflow.keras.models import Sequential    # Modelo secuencial\n",
        "from tensorflow.keras.layers import (\n",
        "    Dense, Dropout, Flatten, Conv2D, MaxPool2D   # Capas del modelo\n",
        ")\n",
        "from tensorflow.keras.optimizers import RMSprop   # Optimizador RMSprop\n",
        "from tensorflow.keras.preprocessing.image import ImageDataGenerator  # Aumento de datos de imágenes\n",
        "from tensorflow.keras.callbacks import ReduceLROnPlateau  # Ajuste de tasa de aprendizaje\n",
        "\n"
      ],
      "metadata": {
        "id": "UEsyVSSomS51"
      },
      "execution_count": null,
      "outputs": []
    },
    {
      "cell_type": "code",
      "source": [
        "# Carga de datos\n",
        "train = pd.read_csv(\"train.csv\")  # Conjunto de datos de entrenamiento\n",
        "test = pd.read_csv(\"test.csv\")     # Conjunto de datos de prueba\n"
      ],
      "metadata": {
        "id": "UBls_XQfn6XT"
      },
      "execution_count": null,
      "outputs": []
    },
    {
      "cell_type": "code",
      "source": [
        "# Asignación de la columna de etiquetas a Y_train\n",
        "Y_train = train[\"label\"]  # Etiquetas del conjunto de entrenamiento\n",
        "\n",
        "# Eliminación de la columna 'label' de los datos de entrada\n",
        "X_train = train.drop(columns=\"label\")  # Datos de entrada sin la columna de etiquetas\n",
        "\n",
        "# Visualización de la distribución de las clases en Y_train\n",
        "class_distribution = Y_train.value_counts()  # Conteo de clases\n",
        "print(\"Distribución de clases:\\n\", class_distribution)  # Impresión de la distribución\n",
        "\n",
        "# Gráfico de distribución\n",
        "sns.countplot(x=Y_train)  # Gráfico de barras de la frecuencia de clases\n",
        "plt.title(\"Distribución de Clases en Y_train\")  # Título del gráfico\n",
        "plt.xlabel(\"Clases\")  # Etiqueta del eje X\n",
        "plt.ylabel(\"Frecuencia\")  # Etiqueta del eje Y\n",
        "plt.show()  # Mostrar el gráfico\n"
      ],
      "metadata": {
        "colab": {
          "base_uri": "https://localhost:8080/",
          "height": 711
        },
        "id": "KKiav8DmqAgo",
        "outputId": "804f9268-eafa-4086-c90d-89f62c574197"
      },
      "execution_count": null,
      "outputs": [
        {
          "output_type": "stream",
          "name": "stdout",
          "text": [
            "Distribución de clases:\n",
            " label\n",
            "1    4684\n",
            "7    4401\n",
            "3    4351\n",
            "9    4188\n",
            "2    4177\n",
            "6    4137\n",
            "0    4132\n",
            "4    4072\n",
            "8    4063\n",
            "5    3795\n",
            "Name: count, dtype: int64\n"
          ]
        },
        {
          "output_type": "display_data",
          "data": {
            "text/plain": [
              "<Figure size 640x480 with 1 Axes>"
            ],
            "image/png": "[encoded data removed]"
          },
          "metadata": {}
        }
      ]
    },
    {
      "cell_type": "code",
      "source": [
        "# Verificación de datos\n",
        "null_check = X_train.isnull().any()  # Comprobación de valores nulos en X_train\n",
        "null_summary = null_check.describe()  # Resumen de la verificación de valores nulos\n",
        "print(null_summary)\n"
      ],
      "metadata": {
        "colab": {
          "base_uri": "https://localhost:8080/"
        },
        "id": "BlKoCaJeoLpo",
        "outputId": "af9fa0a2-94dc-4f99-c858-504abc595f92"
      },
      "execution_count": null,
      "outputs": [
        {
          "output_type": "stream",
          "name": "stdout",
          "text": [
            "count       784\n",
            "unique        1\n",
            "top       False\n",
            "freq        784\n",
            "dtype: object\n"
          ]
        }
      ]
    },
    {
      "cell_type": "code",
      "source": [
        "# Verificación de datos en el conjunto de prueba\n",
        "null_check_test = test.isnull().any()  # Comprobación de valores nulos en el conjunto de prueba\n",
        "null_summary_test = null_check_test.describe()  # Resumen de la verificación de valores nulos en el conjunto de prueba\n",
        "null_summary_test  # Resultado de la verificación\n"
      ],
      "metadata": {
        "colab": {
          "base_uri": "https://localhost:8080/",
          "height": 210
        },
        "id": "OT1wHGaesCuZ",
        "outputId": "a06c33d0-c8a2-4e3a-d827-1e7e77c4d9ff"
      },
      "execution_count": null,
      "outputs": [
        {
          "output_type": "execute_result",
          "data": {
            "text/plain": [
              "count       784\n",
              "unique        1\n",
              "top       False\n",
              "freq        784\n",
              "dtype: object"
            ],
            "text/html": [
              "<div>\n",
              "<style scoped>\n",
              "    .dataframe tbody tr th:only-of-type {\n",
              "        vertical-align: middle;\n",
              "    }\n",
              "\n",
              "    .dataframe tbody tr th {\n",
              "        vertical-align: top;\n",
              "    }\n",
              "\n",
              "    .dataframe thead th {\n",
              "        text-align: right;\n",
              "    }\n",
              "</style>\n",
              "<table border=\"1\" class=\"dataframe\">\n",
              "  <thead>\n",
              "    <tr style=\"text-align: right;\">\n",
              "      <th></th>\n",
              "      <th>0</th>\n",
              "    </tr>\n",
              "  </thead>\n",
              "  <tbody>\n",
              "    <tr>\n",
              "      <th>count</th>\n",
              "      <td>784</td>\n",
              "    </tr>\n",
              "    <tr>\n",
              "      <th>unique</th>\n",
              "      <td>1</td>\n",
              "    </tr>\n",
              "    <tr>\n",
              "      <th>top</th>\n",
              "      <td>False</td>\n",
              "    </tr>\n",
              "    <tr>\n",
              "      <th>freq</th>\n",
              "      <td>784</td>\n",
              "    </tr>\n",
              "  </tbody>\n",
              "</table>\n",
              "</div><br><label><b>dtype:</b> object</label>"
            ]
          },
          "metadata": {},
          "execution_count": 11
        }
      ]
    },
    {
      "cell_type": "code",
      "source": [
        "# Normalización de los datos\n",
        "X_train = X_train / 255.0  # Escalado de datos de entrenamiento a rango [0, 1]\n",
        "test = test / 255.0         # Escalado de datos de prueba a rango [0, 1]\n"
      ],
      "metadata": {
        "id": "8UEdcH-isJdZ"
      },
      "execution_count": null,
      "outputs": []
    },
    {
      "cell_type": "code",
      "source": [
        "# Reestructuración de imágenes en 3 dimensiones (altura = 28px, ancho = 28px, canal = 1)\n",
        "X_train = X_train.values.reshape(-1, 28, 28, 1)  # Reestructuración de datos de entrenamiento\n",
        "test = test.values.reshape(-1, 28, 28, 1)         # Reestructuración de datos de prueba\n"
      ],
      "metadata": {
        "id": "15jKopgmsNbK"
      },
      "execution_count": null,
      "outputs": []
    },
    {
      "cell_type": "code",
      "source": [
        "# Codificación de etiquetas a vectores one-hot (ejemplo: 2 -> [0, 0, 1, 0, 0, 0, 0, 0, 0, 0])\n",
        "Y_train = to_categorical(Y_train, num_classes=10)  # Conversión de etiquetas en one-hot\n"
      ],
      "metadata": {
        "id": "90nCiFKpsP-6"
      },
      "execution_count": null,
      "outputs": []
    },
    {
      "cell_type": "code",
      "source": [
        "# Establecimiento de la semilla aleatoria\n",
        "random_seed = 2  # Semilla para reproducibilidad\n"
      ],
      "metadata": {
        "id": "bernTAykseoC"
      },
      "execution_count": null,
      "outputs": []
    },
    {
      "cell_type": "code",
      "source": [
        "# División del conjunto de entrenamiento y el conjunto de validación\n",
        "X_train, X_val, Y_train, Y_val = train_test_split(X_train, Y_train, test_size=0.1, random_state=random_seed)  # Separación en conjuntos de entrenamiento y validación\n"
      ],
      "metadata": {
        "id": "Vsg-AA-lsiNy"
      },
      "execution_count": null,
      "outputs": []
    },
    {
      "cell_type": "code",
      "source": [
        "# Ejemplos de imágenes\n",
        "g = plt.imshow(X_train[0][:, :, 0])  # Visualización de la primera imagen del conjunto de entrenamiento\n"
      ],
      "metadata": {
        "colab": {
          "base_uri": "https://localhost:8080/",
          "height": 430
        },
        "id": "LEYR4OPEsknb",
        "outputId": "48de9e6e-9537-4058-88ca-fd20bb2212ee"
      },
      "execution_count": null,
      "outputs": [
        {
          "output_type": "display_data",
          "data": {
            "text/plain": [
              "<Figure size 640x480 with 1 Axes>"
            ],
            "image/png": "[encoded data removed]"
          },
          "metadata": {}
        }
      ]
    },
    {
      "cell_type": "code",
      "source": [
        "# Arquitectura de la CNN\n",
        "model = Sequential()  # Inicialización del modelo secuencial\n",
        "\n",
        "# Primera capa convolucional\n",
        "model.add(Conv2D(filters=32, kernel_size=(5, 5), padding='Same', activation='relu', input_shape=(28, 28, 1)) )  # Capa Conv2D con 32 filtros\n",
        "model.add(Conv2D(filters=32, kernel_size=(5, 5), padding='Same', activation='relu'))  # Segunda capa Conv2D\n",
        "model.add(MaxPool2D(pool_size=(2, 2)))  # Capa de max pooling\n",
        "model.add(Dropout(0.25))  # Capa de Dropout\n",
        "\n",
        "# Segunda sección convolucional\n",
        "model.add(Conv2D(filters=64, kernel_size=(3, 3), padding='Same', activation='relu'))  # Tercera capa Conv2D\n",
        "model.add(Conv2D(filters=64, kernel_size=(3, 3), padding='Same', activation='relu'))  # Cuarta capa Conv2D\n",
        "model.add(MaxPool2D(pool_size=(2, 2), strides=(2, 2)))  # Capa de max pooling\n",
        "model.add(Dropout(0.25))  # Capa de Dropout\n",
        "\n",
        "# Capa de aplanamiento y capas densas\n",
        "model.add(Flatten())  # Aplanamiento de la entrada\n",
        "model.add(Dense(256, activation=\"relu\"))  # Capa densa con 256 neuronas\n",
        "model.add(Dropout(0.5))  # Capa de Dropout\n",
        "model.add(Dense(10, activation=\"softmax\"))  # Capa de salida con 10 neuronas (clases)\n"
      ],
      "metadata": {
        "id": "rMuQTpxNsn6L"
      },
      "execution_count": null,
      "outputs": []
    },
    {
      "cell_type": "code",
      "source": [
        "# Definición del optimizador\n",
        "optimizer = RMSprop(learning_rate=0.001, rho=0.9, epsilon=1e-08, weight_decay=0.0)  # Inicialización del optimizador RMSprop\n"
      ],
      "metadata": {
        "id": "S7CGuoTbs2Tz"
      },
      "execution_count": null,
      "outputs": []
    },
    {
      "cell_type": "code",
      "source": [
        "# Compilación del modelo\n",
        "model.compile(optimizer=optimizer, loss=\"categorical_crossentropy\", metrics=[\"accuracy\"])  # Configuración del modelo para el entrenamiento\n"
      ],
      "metadata": {
        "id": "apiCDWSYs6JM"
      },
      "execution_count": null,
      "outputs": []
    },
    {
      "cell_type": "code",
      "source": [
        "# Establecimiento de un disminuidor de la tasa de aprendizaje\n",
        "learning_rate_reduction = ReduceLROnPlateau(monitor='val_acc',  # Monitoreo de la precisión de validación\n",
        "                                            patience=3,  # Paciencia antes de reducir la tasa de aprendizaje\n",
        "                                            verbose=1,  # Detalles del proceso de reducción\n",
        "                                            factor=0.5,  # Factor de reducción de la tasa de aprendizaje\n",
        "                                            min_lr=0.00001)  # Tasa de aprendizaje mínima\n"
      ],
      "metadata": {
        "id": "2ow8LcsrtRId"
      },
      "execution_count": null,
      "outputs": []
    },
    {
      "cell_type": "code",
      "source": [
        "# Definición de parámetros de entrenamiento\n",
        "epochs = 1  # Número de épocas de entrenamiento; cambiar a 30 para alcanzar una precisión de 0.9967\n",
        "batch_size = 86  # Tamaño del lote para el entrenamiento\n"
      ],
      "metadata": {
        "id": "sTZt_badtXeE"
      },
      "execution_count": null,
      "outputs": []
    },
    {
      "cell_type": "code",
      "source": [
        "# Aumento de datos para prevenir el sobreajuste\n",
        "datagen = ImageDataGenerator(\n",
        "        featurewise_center=False,  # No centrar la media de las características sobre el conjunto de datos\n",
        "        samplewise_center=False,  # No centrar la media de cada muestra\n",
        "        featurewise_std_normalization=False,  # No normalizar las entradas por la desviación estándar del conjunto de datos\n",
        "        samplewise_std_normalization=False,  # No normalizar cada entrada por su desviación estándar\n",
        "        zca_whitening=False,  # No aplicar blanqueamiento ZCA\n",
        "        rotation_range=10,  # Rotación aleatoria de imágenes en el rango (grados, 0 a 180)\n",
        "        zoom_range=0.1,  # Acercar aleatoriamente la imagen\n",
        "        width_shift_range=0.1,  # Desplazamiento horizontal aleatorio de imágenes (fracción del ancho total)\n",
        "        height_shift_range=0.1,  # Desplazamiento vertical aleatorio de imágenes (fracción de la altura total)\n",
        "        horizontal_flip=False,  # No voltear las imágenes horizontalmente\n",
        "        vertical_flip=False)  # No voltear las imágenes verticalmente\n",
        "\n",
        "datagen.fit(X_train)  # Ajuste del generador a los datos de entrenamiento\n"
      ],
      "metadata": {
        "id": "OdgS3-8WtaFg"
      },
      "execution_count": null,
      "outputs": []
    },
    {
      "cell_type": "code",
      "source": [
        "# Ajustar el modelo\n",
        "history = model.fit(datagen.flow(X_train, Y_train, batch_size=batch_size),  # Flujo de datos aumentado\n",
        "                    epochs=epochs,  # Número de épocas de entrenamiento\n",
        "                    validation_data=(X_val, Y_val),  # Datos de validación\n",
        "                    verbose=2,  # Nivel de detalle de salida (2 para una visualización más clara)\n",
        "                    steps_per_epoch=X_train.shape[0] // batch_size,  # Pasos por época\n",
        "                    callbacks=[learning_rate_reduction])  # Callback para la reducción de la tasa de aprendizaje\n"
      ],
      "metadata": {
        "colab": {
          "base_uri": "https://localhost:8080/"
        },
        "id": "f2yLhdIRtd-e",
        "outputId": "eac6bfdd-f143-45ec-c50d-d5a2d9602d34"
      },
      "execution_count": null,
      "outputs": [
        {
          "output_type": "stream",
          "name": "stdout",
          "text": [
            "439/439 - 290s - 660ms/step - accuracy: 0.8673 - loss: 0.4113 - val_accuracy: 0.9790 - val_loss: 0.0711 - learning_rate: 0.0010\n"
          ]
        }
      ]
    },
    {
      "cell_type": "code",
      "source": [
        "# Visualización de la matriz de confusión\n",
        "def plot_confusion_matrix(cm, classes,\n",
        "                          normalize=False,\n",
        "                          title='Matriz de Confusión',\n",
        "                          cmap=plt.cm.Blues):\n",
        "    \"\"\"\n",
        "    Imprimir y graficar la matriz de confusión.\n",
        "    Normalización se aplica si `normalize=True`.\n",
        "    \"\"\"\n",
        "    plt.imshow(cm, interpolation='nearest', cmap=cmap)  # Mostrar la matriz\n",
        "    plt.title(title)  # Título de la gráfica\n",
        "    plt.colorbar()  # Barra de color\n",
        "    tick_marks = np.arange(len(classes))  # Marcas en el eje\n",
        "    plt.xticks(tick_marks, classes, rotation=45)  # Etiquetas en el eje X\n",
        "    plt.yticks(tick_marks, classes)  # Etiquetas en el eje Y\n",
        "\n",
        "    if normalize:  # Normalizar si se indica\n",
        "        cm = cm.astype('float') / cm.sum(axis=1)[:, np.newaxis]\n",
        "\n",
        "    thresh = cm.max() / 2.  # Umbral para el color del texto\n",
        "    for i, j in itertools.product(range(cm.shape[0]), range(cm.shape[1])):  # Recorrer la matriz\n",
        "        plt.text(j, i, cm[i, j],  # Mostrar el valor en la matriz\n",
        "                 horizontalalignment=\"center\",\n",
        "                 color=\"white\" if cm[i, j] > thresh else \"black\")\n",
        "\n",
        "    plt.tight_layout()  # Ajustar diseño\n",
        "    plt.ylabel('Etiqueta Verdadera')  # Etiqueta del eje Y\n",
        "    plt.xlabel('Etiqueta Predicha')  # Etiqueta del eje X\n",
        "\n",
        "# Predicciones del conjunto de validación\n",
        "Y_pred = model.predict(X_val)  # Realizar predicciones\n",
        "# Convertir clases predichas a vectores one hot\n",
        "Y_pred_classes = np.argmax(Y_pred, axis=1)  # Obtener clases predichas\n",
        "# Convertir observaciones de validación a vectores one hot\n",
        "Y_true = np.argmax(Y_val, axis=1)  # Obtener clases verdaderas\n",
        "# Calcular la matriz de confusión\n",
        "confusion_mtx = confusion_matrix(Y_true, Y_pred_classes)  # Generar matriz de confusión\n",
        "# Graficar la matriz de confusión\n",
        "plot_confusion_matrix(confusion_mtx, classes=range(10))  # Llamar a la función de graficado\n"
      ],
      "metadata": {
        "colab": {
          "base_uri": "https://localhost:8080/",
          "height": 524
        },
        "id": "nuujWOx2wTb-",
        "outputId": "9604c0e8-3a7a-4915-fbd1-e4560a3298e3"
      },
      "execution_count": null,
      "outputs": [
        {
          "output_type": "stream",
          "name": "stdout",
          "text": [
            "\u001b[1m132/132\u001b[0m \u001b[32m━━━━━━━━━━━━━━━━━━━━\u001b[0m\u001b[37m\u001b[0m \u001b[1m7s\u001b[0m 54ms/step\n"
          ]
        },
        {
          "output_type": "display_data",
          "data": {
            "text/plain": [
              "<Figure size 640x480 with 2 Axes>"
            ],
            "image/png": "[encoded data removed]"
          },
          "metadata": {}
        }
      ]
    },
    {
      "cell_type": "code",
      "source": [
        "# Mostrar algunos resultados de errores\n",
        "\n",
        "# Errores son diferencias entre etiquetas predichas y verdaderas\n",
        "errors = (Y_pred_classes - Y_true != 0)  # Identificar errores\n",
        "\n",
        "# Filtrar las clases, probabilidades y datos de entrada con errores\n",
        "Y_pred_classes_errors = Y_pred_classes[errors]  # Clases predichas erróneas\n",
        "Y_pred_errors = Y_pred[errors]  # Probabilidades predichas erróneas\n",
        "Y_true_errors = Y_true[errors]  # Clases verdaderas de los errores\n",
        "X_val_errors = X_val[errors]  # Datos de entrada erróneos\n",
        "\n",
        "def display_errors(errors_index, img_errors, pred_errors, obs_errors):\n",
        "    \"\"\" Muestra 6 imágenes con sus etiquetas predichas y reales \"\"\"\n",
        "    n = 0\n",
        "    nrows = 2  # Número de filas\n",
        "    ncols = 3  # Número de columnas\n",
        "    fig, ax = plt.subplots(nrows, ncols, sharex=True, sharey=True)  # Crear subgráficas\n",
        "    for row in range(nrows):\n",
        "        for col in range(ncols):\n",
        "            error = errors_index[n]  # Índice de error\n",
        "            ax[row, col].imshow(img_errors[error].reshape((28, 28)), cmap='gray')  # Mostrar imagen\n",
        "            ax[row, col].set_title(f\"Predicted: {pred_errors[error]}\\nTrue: {obs_errors[error]}\")  # Títulos\n",
        "            n += 1\n",
        "\n",
        "# Probabilidades de los números mal predichos\n",
        "Y_pred_errors_prob = np.max(Y_pred_errors, axis=1)  # Máxima probabilidad predicha\n",
        "\n",
        "# Probabilidades predichas de los valores verdaderos en el conjunto de errores\n",
        "true_prob_errors = np.diagonal(np.take(Y_pred_errors, Y_true_errors, axis=1))  # Probabilidad verdadera\n",
        "\n",
        "# Diferencia entre la probabilidad de la etiqueta predicha y la verdadera\n",
        "delta_pred_true_errors = Y_pred_errors_prob - true_prob_errors  # Calcular diferencias\n",
        "\n",
        "# Lista ordenada de las diferencias de probabilidades\n",
        "sorted_delta_errors = np.argsort(delta_pred_true_errors)  # Ordenar errores\n",
        "\n",
        "# Top 6 errores\n",
        "most_important_errors = sorted_delta_errors[-6:]  # Errores más importantes\n",
        "\n",
        "# Mostrar los 6 errores más relevantes\n",
        "display_errors(most_important_errors, X_val_errors, Y_pred_classes_errors, Y_true_errors)  # Llamar a la función\n"
      ],
      "metadata": {
        "colab": {
          "base_uri": "https://localhost:8080/",
          "height": 451
        },
        "id": "C57mG0q6wnfx",
        "outputId": "97602c20-7890-47a0-8e66-b232e4db47f1"
      },
      "execution_count": null,
      "outputs": [
        {
          "output_type": "display_data",
          "data": {
            "text/plain": [
              "<Figure size 640x480 with 6 Axes>"
            ],
            "image/png": "[encoded data removed]"
          },
          "metadata": {}
        }
      ]
    },
    {
      "cell_type": "code",
      "source": [
        "# Predecir los resultados para el conjunto de prueba\n",
        "results = model.predict(test)  # Usar el modelo para hacer predicciones\n",
        "\n",
        "# Seleccionar el índice con la máxima probabilidad\n",
        "results = np.argmax(results, axis=1)  # Obtener la clase con la mayor probabilidad para cada predicción\n",
        "\n",
        "# Convertir los resultados a una serie de pandas con el nombre \"Label\"\n",
        "results = pd.Series(results, name=\"Label\")  # Crear una serie de pandas para facilitar su uso\n"
      ],
      "metadata": {
        "colab": {
          "base_uri": "https://localhost:8080/"
        },
        "id": "xkI_f5dKw2hn",
        "outputId": "40c39c3e-6080-4080-9435-a21344d327aa"
      },
      "execution_count": null,
      "outputs": [
        {
          "output_type": "stream",
          "name": "stdout",
          "text": [
            "\u001b[1m875/875\u001b[0m \u001b[32m━━━━━━━━━━━━━━━━━━━━\u001b[0m\u001b[37m\u001b[0m \u001b[1m57s\u001b[0m 65ms/step\n"
          ]
        }
      ]
    },
    {
      "cell_type": "code",
      "source": [
        "# Crear el DataFrame para la presentación\n",
        "submission = pd.DataFrame({\n",
        "    \"ImageId\": range(1, 28001),  # Generar un rango de 1 a 28000 para las IDs de imagen\n",
        "    \"Label\": results  # Asignar los resultados como la columna 'Label'\n",
        "})\n",
        "\n",
        "# Mostrar las últimas filas del DataFrame\n",
        "submission.tail()  # Esto te permite ver las últimas filas para confirmar que los datos se han agregado correctamente\n"
      ],
      "metadata": {
        "colab": {
          "base_uri": "https://localhost:8080/",
          "height": 206
        },
        "id": "y17WJ6Tbw67f",
        "outputId": "b8c4c622-035d-41fa-d5ac-c27822d8b441"
      },
      "execution_count": null,
      "outputs": [
        {
          "output_type": "execute_result",
          "data": {
            "text/plain": [
              "       ImageId  Label\n",
              "27995    27996      9\n",
              "27996    27997      7\n",
              "27997    27998      3\n",
              "27998    27999      9\n",
              "27999    28000      2"
            ],
            "text/html": [
              "\n",
              "  <div id=\"df-a58d4aa1-3d94-41c2-b340-9e8f75da0eaf\" class=\"colab-df-container\">\n",
              "    <div>\n",
              "<style scoped>\n",
              "    .dataframe tbody tr th:only-of-type {\n",
              "        vertical-align: middle;\n",
              "    }\n",
              "\n",
              "    .dataframe tbody tr th {\n",
              "        vertical-align: top;\n",
              "    }\n",
              "\n",
              "    .dataframe thead th {\n",
              "        text-align: right;\n",
              "    }\n",
              "</style>\n",
              "<table border=\"1\" class=\"dataframe\">\n",
              "  <thead>\n",
              "    <tr style=\"text-align: right;\">\n",
              "      <th></th>\n",
              "      <th>ImageId</th>\n",
              "      <th>Label</th>\n",
              "    </tr>\n",
              "  </thead>\n",
              "  <tbody>\n",
              "    <tr>\n",
              "      <th>27995</th>\n",
              "      <td>27996</td>\n",
              "      <td>9</td>\n",
              "    </tr>\n",
              "    <tr>\n",
              "      <th>27996</th>\n",
              "      <td>27997</td>\n",
              "      <td>7</td>\n",
              "    </tr>\n",
              "    <tr>\n",
              "      <th>27997</th>\n",
              "      <td>27998</td>\n",
              "      <td>3</td>\n",
              "    </tr>\n",
              "    <tr>\n",
              "      <th>27998</th>\n",
              "      <td>27999</td>\n",
              "      <td>9</td>\n",
              "    </tr>\n",
              "    <tr>\n",
              "      <th>27999</th>\n",
              "      <td>28000</td>\n",
              "      <td>2</td>\n",
              "    </tr>\n",
              "  </tbody>\n",
              "</table>\n",
              "</div>\n",
              "    <div class=\"colab-df-buttons\">\n",
              "\n",
              "  <div class=\"colab-df-container\">\n",
              "    <button class=\"colab-df-convert\" onclick=\"convertToInteractive('df-a58d4aa1-3d94-41c2-b340-9e8f75da0eaf')\"\n",
              "            title=\"Convert this dataframe to an interactive table.\"\n",
              "            style=\"display:none;\">\n",
              "\n",
              "  <svg xmlns=\"http://www.w3.org/2000/svg\" height=\"24px\" viewBox=\"0 -960 960 960\">\n",
              "    <path d=\"M120-120v-720h720v720H120Zm60-500h600v-160H180v160Zm220 220h160v-160H400v160Zm0 220h160v-160H400v160ZM180-400h160v-160H180v160Zm440 0h160v-160H620v160ZM180-180h160v-160H180v160Zm440 0h160v-160H620v160Z\"/>\n",
              "  </svg>\n",
              "    </button>\n",
              "\n",
              "  <style>\n",
              "    .colab-df-container {\n",
              "      display:flex;\n",
              "      gap: 12px;\n",
              "    }\n",
              "\n",
              "    .colab-df-convert {\n",
              "      background-color: #E8F0FE;\n",
              "      border: none;\n",
              "      border-radius: 50%;\n",
              "      cursor: pointer;\n",
              "      display: none;\n",
              "      fill: #1967D2;\n",
              "      height: 32px;\n",
              "      padding: 0 0 0 0;\n",
              "      width: 32px;\n",
              "    }\n",
              "\n",
              "    .colab-df-convert:hover {\n",
              "      background-color: #E2EBFA;\n",
              "      box-shadow: 0px 1px 2px rgba(60, 64, 67, 0.3), 0px 1px 3px 1px rgba(60, 64, 67, 0.15);\n",
              "      fill: #174EA6;\n",
              "    }\n",
              "\n",
              "    .colab-df-buttons div {\n",
              "      margin-bottom: 4px;\n",
              "    }\n",
              "\n",
              "    [theme=dark] .colab-df-convert {\n",
              "      background-color: #3B4455;\n",
              "      fill: #D2E3FC;\n",
              "    }\n",
              "\n",
              "    [theme=dark] .colab-df-convert:hover {\n",
              "      background-color: #434B5C;\n",
              "      box-shadow: 0px 1px 3px 1px rgba(0, 0, 0, 0.15);\n",
              "      filter: drop-shadow(0px 1px 2px rgba(0, 0, 0, 0.3));\n",
              "      fill: #FFFFFF;\n",
              "    }\n",
              "  </style>\n",
              "\n",
              "    <script>\n",
              "      const buttonEl =\n",
              "        document.querySelector('#df-a58d4aa1-3d94-41c2-b340-9e8f75da0eaf button.colab-df-convert');\n",
              "      buttonEl.style.display =\n",
              "        google.colab.kernel.accessAllowed ? 'block' : 'none';\n",
              "\n",
              "      async function convertToInteractive(key) {\n",
              "        const element = document.querySelector('#df-a58d4aa1-3d94-41c2-b340-9e8f75da0eaf');\n",
              "        const dataTable =\n",
              "          await google.colab.kernel.invokeFunction('convertToInteractive',\n",
              "                                                    [key], {});\n",
              "        if (!dataTable) return;\n",
              "\n",
              "        const docLinkHtml = 'Like what you see? Visit the ' +\n",
              "          '<a target=\"_blank\" href=https://colab.research.google.com/notebooks/data_table.ipynb>data table notebook</a>'\n",
              "          + ' to learn more about interactive tables.';\n",
              "        element.innerHTML = '';\n",
              "        dataTable['output_type'] = 'display_data';\n",
              "        await google.colab.output.renderOutput(dataTable, element);\n",
              "        const docLink = document.createElement('div');\n",
              "        docLink.innerHTML = docLinkHtml;\n",
              "        element.appendChild(docLink);\n",
              "      }\n",
              "    </script>\n",
              "  </div>\n",
              "\n",
              "\n",
              "<div id=\"df-faea2320-6e51-4131-a511-43dfee58b686\">\n",
              "  <button class=\"colab-df-quickchart\" onclick=\"quickchart('df-faea2320-6e51-4131-a511-43dfee58b686')\"\n",
              "            title=\"Suggest charts\"\n",
              "            style=\"display:none;\">\n",
              "\n",
              "<svg xmlns=\"http://www.w3.org/2000/svg\" height=\"24px\"viewBox=\"0 0 24 24\"\n",
              "     width=\"24px\">\n",
              "    <g>\n",
              "        <path d=\"M19 3H5c-1.1 0-2 .9-2 2v14c0 1.1.9 2 2 2h14c1.1 0 2-.9 2-2V5c0-1.1-.9-2-2-2zM9 17H7v-7h2v7zm4 0h-2V7h2v10zm4 0h-2v-4h2v4z\"/>\n",
              "    </g>\n",
              "</svg>\n",
              "  </button>\n",
              "\n",
              "<style>\n",
              "  .colab-df-quickchart {\n",
              "      --bg-color: #E8F0FE;\n",
              "      --fill-color: #1967D2;\n",
              "      --hover-bg-color: #E2EBFA;\n",
              "      --hover-fill-color: #174EA6;\n",
              "      --disabled-fill-color: #AAA;\n",
              "      --disabled-bg-color: #DDD;\n",
              "  }\n",
              "\n",
              "  [theme=dark] .colab-df-quickchart {\n",
              "      --bg-color: #3B4455;\n",
              "      --fill-color: #D2E3FC;\n",
              "      --hover-bg-color: #434B5C;\n",
              "      --hover-fill-color: #FFFFFF;\n",
              "      --disabled-bg-color: #3B4455;\n",
              "      --disabled-fill-color: #666;\n",
              "  }\n",
              "\n",
              "  .colab-df-quickchart {\n",
              "    background-color: var(--bg-color);\n",
              "    border: none;\n",
              "    border-radius: 50%;\n",
              "    cursor: pointer;\n",
              "    display: none;\n",
              "    fill: var(--fill-color);\n",
              "    height: 32px;\n",
              "    padding: 0;\n",
              "    width: 32px;\n",
              "  }\n",
              "\n",
              "  .colab-df-quickchart:hover {\n",
              "    background-color: var(--hover-bg-color);\n",
              "    box-shadow: 0 1px 2px rgba(60, 64, 67, 0.3), 0 1px 3px 1px rgba(60, 64, 67, 0.15);\n",
              "    fill: var(--button-hover-fill-color);\n",
              "  }\n",
              "\n",
              "  .colab-df-quickchart-complete:disabled,\n",
              "  .colab-df-quickchart-complete:disabled:hover {\n",
              "    background-color: var(--disabled-bg-color);\n",
              "    fill: var(--disabled-fill-color);\n",
              "    box-shadow: none;\n",
              "  }\n",
              "\n",
              "  .colab-df-spinner {\n",
              "    border: 2px solid var(--fill-color);\n",
              "    border-color: transparent;\n",
              "    border-bottom-color: var(--fill-color);\n",
              "    animation:\n",
              "      spin 1s steps(1) infinite;\n",
              "  }\n",
              "\n",
              "  @keyframes spin {\n",
              "    0% {\n",
              "      border-color: transparent;\n",
              "      border-bottom-color: var(--fill-color);\n",
              "      border-left-color: var(--fill-color);\n",
              "    }\n",
              "    20% {\n",
              "      border-color: transparent;\n",
              "      border-left-color: var(--fill-color);\n",
              "      border-top-color: var(--fill-color);\n",
              "    }\n",
              "    30% {\n",
              "      border-color: transparent;\n",
              "      border-left-color: var(--fill-color);\n",
              "      border-top-color: var(--fill-color);\n",
              "      border-right-color: var(--fill-color);\n",
              "    }\n",
              "    40% {\n",
              "      border-color: transparent;\n",
              "      border-right-color: var(--fill-color);\n",
              "      border-top-color: var(--fill-color);\n",
              "    }\n",
              "    60% {\n",
              "      border-color: transparent;\n",
              "      border-right-color: var(--fill-color);\n",
              "    }\n",
              "    80% {\n",
              "      border-color: transparent;\n",
              "      border-right-color: var(--fill-color);\n",
              "      border-bottom-color: var(--fill-color);\n",
              "    }\n",
              "    90% {\n",
              "      border-color: transparent;\n",
              "      border-bottom-color: var(--fill-color);\n",
              "    }\n",
              "  }\n",
              "</style>\n",
              "\n",
              "  <script>\n",
              "    async function quickchart(key) {\n",
              "      const quickchartButtonEl =\n",
              "        document.querySelector('#' + key + ' button');\n",
              "      quickchartButtonEl.disabled = true;  // To prevent multiple clicks.\n",
              "      quickchartButtonEl.classList.add('colab-df-spinner');\n",
              "      try {\n",
              "        const charts = await google.colab.kernel.invokeFunction(\n",
              "            'suggestCharts', [key], {});\n",
              "      } catch (error) {\n",
              "        console.error('Error during call to suggestCharts:', error);\n",
              "      }\n",
              "      quickchartButtonEl.classList.remove('colab-df-spinner');\n",
              "      quickchartButtonEl.classList.add('colab-df-quickchart-complete');\n",
              "    }\n",
              "    (() => {\n",
              "      let quickchartButtonEl =\n",
              "        document.querySelector('#df-faea2320-6e51-4131-a511-43dfee58b686 button');\n",
              "      quickchartButtonEl.style.display =\n",
              "        google.colab.kernel.accessAllowed ? 'block' : 'none';\n",
              "    })();\n",
              "  </script>\n",
              "</div>\n",
              "\n",
              "    </div>\n",
              "  </div>\n"
            ],
            "application/vnd.google.colaboratory.intrinsic+json": {
              "type": "dataframe",
              "summary": "{\n  \"name\": \"submission\",\n  \"rows\": 5,\n  \"fields\": [\n    {\n      \"column\": \"ImageId\",\n      \"properties\": {\n        \"dtype\": \"number\",\n        \"std\": 1,\n        \"min\": 27996,\n        \"max\": 28000,\n        \"num_unique_values\": 5,\n        \"samples\": [\n          27997,\n          28000,\n          27998\n        ],\n        \"semantic_type\": \"\",\n        \"description\": \"\"\n      }\n    },\n    {\n      \"column\": \"Label\",\n      \"properties\": {\n        \"dtype\": \"number\",\n        \"std\": 3,\n        \"min\": 2,\n        \"max\": 9,\n        \"num_unique_values\": 4,\n        \"samples\": [\n          7,\n          2,\n          9\n        ],\n        \"semantic_type\": \"\",\n        \"description\": \"\"\n      }\n    }\n  ]\n}"
            }
          },
          "metadata": {},
          "execution_count": 28
        }
      ]
    },
    {
      "cell_type": "code",
      "source": [
        "import matplotlib.pyplot as plt\n",
        "\n",
        "# Mostrar las últimas 5 imágenes test\n",
        "num_images = 5\n",
        "fig, axes = plt.subplots(1, num_images, figsize=(15, 5))\n",
        "\n",
        "for i in range(num_images):\n",
        "    axes[i].imshow(test[-(i + 1)][:, :, 0], cmap='gray')  # Ajusta el índice para mostrar imágenes en orden\n",
        "    axes[i].axis('off')  # Ocultar los ejes\n",
        "\n",
        "plt.show()\n"
      ],
      "metadata": {
        "colab": {
          "base_uri": "https://localhost:8080/",
          "height": 236
        },
        "id": "H_Ur1oS_xeOQ",
        "outputId": "efbc6bd9-e529-448b-bfc4-c5a0ee559b78"
      },
      "execution_count": null,
      "outputs": [
        {
          "output_type": "display_data",
          "data": {
            "text/plain": [
              "<Figure size 1500x500 with 5 Axes>"
            ],
            "image/png": "[encoded data removed]"
          },
          "metadata": {}
        }
      ]
    },
    {
      "cell_type": "code",
      "source": [
        "model.save('modelo_digit_recognizer.h5')\n"
      ],
      "metadata": {
        "colab": {
          "base_uri": "https://localhost:8080/"
        },
        "id": "agcee9BcxnCo",
        "outputId": "45a7046a-1d87-4faf-c454-75970546cda9"
      },
      "execution_count": null,
      "outputs": [
        {
          "output_type": "stream",
          "name": "stderr",
          "text": [
            "WARNING:absl:You are saving your model as an HDF5 file via `model.save()` or `keras.saving.save_model(model)`. This file format is considered legacy. We recommend using instead the native Keras format, e.g. `model.save('my_model.keras')` or `keras.saving.save_model(model, 'my_model.keras')`. \n"
          ]
        }
      ]
    },
    {
      "cell_type": "code",
      "source": [
        "# from tensorflow.keras.models import load_model\n",
        "\n",
        "# model = load_model('modelo_digit_recognizer.h5')\n"
      ],
      "metadata": {
        "id": "dJkhwTqTC7Fu"
      },
      "execution_count": null,
      "outputs": []
    }
  ]
}